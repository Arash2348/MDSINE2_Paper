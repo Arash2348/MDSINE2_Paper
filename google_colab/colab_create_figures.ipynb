{
  "cells": [
    {
      "cell_type": "markdown",
      "metadata": {
        "id": "1mNPGOyE4CsO"
      },
      "source": [
        "\n",
        "\n",
        "```\n",
        "The codes below reproduce the figures appearing in the paper,\"Dynamical systems inference at scale reveals intrinsic instability in the dysbiotic microbiome\". The output figures are saved in \"MDSINE2_Paper/analysis/gibson_inference/figures/output_figures/\". \n",
        "```\n",
        "\n"
      ]
    },
    {
      "cell_type": "code",
      "execution_count": null,
      "metadata": {
        "colab": {
          "base_uri": "https://localhost:8080/"
        },
        "id": "sRmP6tn63_dd",
        "outputId": "e806f1df-76f8-4b04-ed8c-71e5aad71824"
      },
      "outputs": [
        {
          "output_type": "stream",
          "name": "stdout",
          "text": [
            "Requirement already satisfied: wget in /usr/local/lib/python3.7/dist-packages (3.2)\n",
            "Requirement already satisfied: zenodo-get in /usr/local/lib/python3.7/dist-packages (1.3.4)\n",
            "Requirement already satisfied: requests in /usr/local/lib/python3.7/dist-packages (from zenodo-get) (2.23.0)\n",
            "Requirement already satisfied: wget in /usr/local/lib/python3.7/dist-packages (from zenodo-get) (3.2)\n",
            "Requirement already satisfied: chardet<4,>=3.0.2 in /usr/local/lib/python3.7/dist-packages (from requests->zenodo-get) (3.0.4)\n",
            "Requirement already satisfied: urllib3!=1.25.0,!=1.25.1,<1.26,>=1.21.1 in /usr/local/lib/python3.7/dist-packages (from requests->zenodo-get) (1.24.3)\n",
            "Requirement already satisfied: idna<3,>=2.5 in /usr/local/lib/python3.7/dist-packages (from requests->zenodo-get) (2.10)\n",
            "Requirement already satisfied: certifi>=2017.4.17 in /usr/local/lib/python3.7/dist-packages (from requests->zenodo-get) (2021.10.8)\n",
            "Collecting scikit-bio\n",
            "  Downloading scikit-bio-0.5.6.tar.gz (8.4 MB)\n",
            "\u001b[K     |████████████████████████████████| 8.4 MB 5.2 MB/s \n",
            "\u001b[?25hCollecting lockfile>=0.10.2\n",
            "  Downloading lockfile-0.12.2-py2.py3-none-any.whl (13 kB)\n",
            "Requirement already satisfied: CacheControl>=0.11.5 in /usr/local/lib/python3.7/dist-packages (from scikit-bio) (0.12.10)\n",
            "Requirement already satisfied: decorator>=3.4.2 in /usr/local/lib/python3.7/dist-packages (from scikit-bio) (4.4.2)\n",
            "Requirement already satisfied: IPython>=3.2.0 in /usr/local/lib/python3.7/dist-packages (from scikit-bio) (5.5.0)\n",
            "Requirement already satisfied: matplotlib>=1.4.3 in /usr/local/lib/python3.7/dist-packages (from scikit-bio) (3.5.1)\n",
            "Requirement already satisfied: natsort>=4.0.3 in /usr/local/lib/python3.7/dist-packages (from scikit-bio) (5.5.0)\n",
            "Requirement already satisfied: numpy>=1.9.2 in /usr/local/lib/python3.7/dist-packages (from scikit-bio) (1.19.5)\n",
            "Requirement already satisfied: pandas>=1.0.0 in /usr/local/lib/python3.7/dist-packages (from scikit-bio) (1.1.5)\n",
            "Requirement already satisfied: scipy>=1.3.0 in /usr/local/lib/python3.7/dist-packages (from scikit-bio) (1.4.1)\n",
            "Collecting hdmedians>=0.13\n",
            "  Downloading hdmedians-0.14.2.tar.gz (7.6 kB)\n",
            "  Installing build dependencies ... \u001b[?25l\u001b[?25hdone\n",
            "  Getting requirements to build wheel ... \u001b[?25l\u001b[?25hdone\n",
            "  Installing backend dependencies ... \u001b[?25l\u001b[?25hdone\n",
            "    Preparing wheel metadata ... \u001b[?25l\u001b[?25hdone\n",
            "Requirement already satisfied: scikit-learn>=0.19.1 in /usr/local/lib/python3.7/dist-packages (from scikit-bio) (1.0.1)\n",
            "Requirement already satisfied: msgpack>=0.5.2 in /usr/local/lib/python3.7/dist-packages (from CacheControl>=0.11.5->scikit-bio) (1.0.3)\n",
            "Requirement already satisfied: requests in /usr/local/lib/python3.7/dist-packages (from CacheControl>=0.11.5->scikit-bio) (2.23.0)\n",
            "Requirement already satisfied: Cython>=0.23 in /usr/local/lib/python3.7/dist-packages (from hdmedians>=0.13->scikit-bio) (0.29.24)\n",
            "Requirement already satisfied: pickleshare in /usr/local/lib/python3.7/dist-packages (from IPython>=3.2.0->scikit-bio) (0.7.5)\n",
            "Requirement already satisfied: setuptools>=18.5 in /usr/local/lib/python3.7/dist-packages (from IPython>=3.2.0->scikit-bio) (57.4.0)\n",
            "Requirement already satisfied: simplegeneric>0.8 in /usr/local/lib/python3.7/dist-packages (from IPython>=3.2.0->scikit-bio) (0.8.1)\n",
            "Requirement already satisfied: traitlets>=4.2 in /usr/local/lib/python3.7/dist-packages (from IPython>=3.2.0->scikit-bio) (5.1.1)\n",
            "Requirement already satisfied: pexpect in /usr/local/lib/python3.7/dist-packages (from IPython>=3.2.0->scikit-bio) (4.8.0)\n",
            "Requirement already satisfied: pygments in /usr/local/lib/python3.7/dist-packages (from IPython>=3.2.0->scikit-bio) (2.6.1)\n",
            "Requirement already satisfied: prompt-toolkit<2.0.0,>=1.0.4 in /usr/local/lib/python3.7/dist-packages (from IPython>=3.2.0->scikit-bio) (1.0.18)\n",
            "Requirement already satisfied: fonttools>=4.22.0 in /usr/local/lib/python3.7/dist-packages (from matplotlib>=1.4.3->scikit-bio) (4.28.3)\n",
            "Requirement already satisfied: pillow>=6.2.0 in /usr/local/lib/python3.7/dist-packages (from matplotlib>=1.4.3->scikit-bio) (7.1.2)\n",
            "Requirement already satisfied: packaging>=20.0 in /usr/local/lib/python3.7/dist-packages (from matplotlib>=1.4.3->scikit-bio) (21.3)\n",
            "Requirement already satisfied: kiwisolver>=1.0.1 in /usr/local/lib/python3.7/dist-packages (from matplotlib>=1.4.3->scikit-bio) (1.3.2)\n",
            "Requirement already satisfied: python-dateutil>=2.7 in /usr/local/lib/python3.7/dist-packages (from matplotlib>=1.4.3->scikit-bio) (2.8.2)\n",
            "Requirement already satisfied: cycler>=0.10 in /usr/local/lib/python3.7/dist-packages (from matplotlib>=1.4.3->scikit-bio) (0.11.0)\n",
            "Requirement already satisfied: pyparsing>=2.2.1 in /usr/local/lib/python3.7/dist-packages (from matplotlib>=1.4.3->scikit-bio) (3.0.6)\n",
            "Requirement already satisfied: pytz>=2017.2 in /usr/local/lib/python3.7/dist-packages (from pandas>=1.0.0->scikit-bio) (2018.9)\n",
            "Requirement already satisfied: six>=1.9.0 in /usr/local/lib/python3.7/dist-packages (from prompt-toolkit<2.0.0,>=1.0.4->IPython>=3.2.0->scikit-bio) (1.15.0)\n",
            "Requirement already satisfied: wcwidth in /usr/local/lib/python3.7/dist-packages (from prompt-toolkit<2.0.0,>=1.0.4->IPython>=3.2.0->scikit-bio) (0.2.5)\n",
            "Requirement already satisfied: joblib>=0.11 in /usr/local/lib/python3.7/dist-packages (from scikit-learn>=0.19.1->scikit-bio) (1.1.0)\n",
            "Requirement already satisfied: threadpoolctl>=2.0.0 in /usr/local/lib/python3.7/dist-packages (from scikit-learn>=0.19.1->scikit-bio) (3.0.0)\n",
            "Requirement already satisfied: ptyprocess>=0.5 in /usr/local/lib/python3.7/dist-packages (from pexpect->IPython>=3.2.0->scikit-bio) (0.7.0)\n",
            "Requirement already satisfied: chardet<4,>=3.0.2 in /usr/local/lib/python3.7/dist-packages (from requests->CacheControl>=0.11.5->scikit-bio) (3.0.4)\n",
            "Requirement already satisfied: certifi>=2017.4.17 in /usr/local/lib/python3.7/dist-packages (from requests->CacheControl>=0.11.5->scikit-bio) (2021.10.8)\n",
            "Requirement already satisfied: urllib3!=1.25.0,!=1.25.1,<1.26,>=1.21.1 in /usr/local/lib/python3.7/dist-packages (from requests->CacheControl>=0.11.5->scikit-bio) (1.24.3)\n",
            "Requirement already satisfied: idna<3,>=2.5 in /usr/local/lib/python3.7/dist-packages (from requests->CacheControl>=0.11.5->scikit-bio) (2.10)\n",
            "Building wheels for collected packages: scikit-bio, hdmedians\n",
            "  Building wheel for scikit-bio (setup.py) ... \u001b[?25l\u001b[?25hdone\n",
            "  Created wheel for scikit-bio: filename=scikit_bio-0.5.6-cp37-cp37m-linux_x86_64.whl size=1456860 sha256=b93d1771aba7d574f74ea3d2a0d38a919f968ee71fc469bb26f3b6164c7af6b9\n",
            "  Stored in directory: /root/.cache/pip/wheels/7e/fa/86/a8b3b3b1187f0b0997fca40cdb7dd0d81a57ff061010e4464d\n",
            "  Building wheel for hdmedians (PEP 517) ... \u001b[?25l\u001b[?25hdone\n",
            "  Created wheel for hdmedians: filename=hdmedians-0.14.2-cp37-cp37m-linux_x86_64.whl size=453195 sha256=14a67adec1926f722b59d52b2f97a8039c27f9c97a179055057fc0c66da0b6ad\n",
            "  Stored in directory: /root/.cache/pip/wheels/56/5d/28/fb40426fbf6a8c3af88376a227130bbdf81e00177123e1398e\n",
            "Successfully built scikit-bio hdmedians\n",
            "Installing collected packages: lockfile, hdmedians, scikit-bio\n",
            "Successfully installed hdmedians-0.14.2 lockfile-0.12.2 scikit-bio-0.5.6\n"
          ]
        }
      ],
      "source": [
        "!pip install wget\n",
        "!pip install zenodo-get\n",
        "!pip install scikit-bio"
      ]
    },
    {
      "cell_type": "markdown",
      "metadata": {
        "id": "gvxfwJ7cQF0s"
      },
      "source": [
        "```\n",
        "The relevant files needed to make the figures are saved in zenodo. \n",
        "```"
      ]
    },
    {
      "cell_type": "code",
      "execution_count": null,
      "metadata": {
        "colab": {
          "base_uri": "https://localhost:8080/"
        },
        "id": "aMKy8vLG3t4_",
        "outputId": "4d0ce0ed-4d3f-4ce3-e363-be5f9c4c797f"
      },
      "outputs": [
        {
          "name": "stdout",
          "output_type": "stream",
          "text": [
            "Title: Data and output files for the paper, \"Dynamical systems inference at scale reveals intrinsic instability in the dysbiotic microbiome\"\n",
            "Keywords: \n",
            "Publication date: 2021-10-09\n",
            "DOI: 10.5281/zenodo.5710661\n",
            "Total size: 17012.0 MB\n",
            "\n",
            "Link: https://zenodo.org/api/files/28b73f0a-5e3e-40df-aa27-0328a53bd2fe/ASV_OTU_aggregate_and_phylogenetic_trees.tgz   size: 54.3 MB\n",
            "\n",
            "Checksum is correct. (287f8154f7c327ae8d1ac28d9c3ce3b2)\n",
            "\n",
            "Link: https://zenodo.org/api/files/28b73f0a-5e3e-40df-aa27-0328a53bd2fe/forward_sims.tgz   size: 4943.4 MB\n",
            "\n",
            "Checksum is correct. (83052b6b493c298d218c78a37e1e19de)\n",
            "\n",
            "Link: https://zenodo.org/api/files/28b73f0a-5e3e-40df-aa27-0328a53bd2fe/mixed_prior_fixed.tgz   size: 5995.6 MB\n",
            "\n",
            "Checksum is correct. (d00795c20f2961c78d2adc6ec4c137dd)\n",
            "\n",
            "Link: https://zenodo.org/api/files/28b73f0a-5e3e-40df-aa27-0328a53bd2fe/mixed_prior_unfixed.tgz   size: 5956.8 MB\n",
            "\n",
            "Checksum is correct. (e6c48dff6d326550c866e851e5fe2e89)\n",
            "\n",
            "Link: https://zenodo.org/api/files/28b73f0a-5e3e-40df-aa27-0328a53bd2fe/other_files.tgz   size: 61.9 MB\n",
            "\n",
            "Checksum is correct. (a6a8440340ae98233cdfb6c4c82b2089)\n",
            "All files have been downloaded.\n"
          ]
        }
      ],
      "source": [
        "!zenodo_get -d 10.5281/zenodo.5710661"
      ]
    },
    {
      "cell_type": "code",
      "execution_count": null,
      "metadata": {
        "colab": {
          "base_uri": "https://localhost:8080/"
        },
        "id": "FrPWLmik2v6X",
        "outputId": "225b8787-629c-477e-b515-2c3158e8b267"
      },
      "outputs": [
        {
          "name": "stdout",
          "output_type": "stream",
          "text": [
            "--2021-10-12 14:14:46--  https://zenodo.org/api/files/220bcb03-b941-4930-b233-d01a57a0066b/forward_sims.tgz\n",
            "Resolving zenodo.org (zenodo.org)... 137.138.76.77\n",
            "Connecting to zenodo.org (zenodo.org)|137.138.76.77|:443... connected.\n",
            "HTTP request sent, awaiting response... 200 OK\n",
            "Length: 5183489132 (4.8G) [application/octet-stream]\n",
            "Saving to: ‘forward_sims.tgz.1’\n",
            "\n",
            "forward_sims.tgz.1  100%[===================>]   4.83G  42.2MB/s    in 1m 59s  \n",
            "\n",
            "2021-10-12 14:16:45 (41.7 MB/s) - ‘forward_sims.tgz.1’ saved [5183489132/5183489132]\n",
            "\n"
          ]
        }
      ],
      "source": [
        "!wget https://zenodo.org/api/files/220bcb03-b941-4930-b233-d01a57a0066b/forward_sims.tgz "
      ]
    },
    {
      "cell_type": "code",
      "execution_count": null,
      "metadata": {
        "colab": {
          "base_uri": "https://localhost:8080/"
        },
        "id": "r49tYg-y3wbw",
        "outputId": "fc8ebe66-00aa-45ba-aa92-f7b930b7d09d"
      },
      "outputs": [
        {
          "name": "stdout",
          "output_type": "stream",
          "text": [
            "mixed_prior_fixed/\n",
            "mixed_prior_fixed/uc-seed0-mixed/\n",
            "mixed_prior_fixed/._.DS_Store\n",
            "mixed_prior_fixed/.DS_Store\n",
            "mixed_prior_fixed/healthy-seed0-mixed/\n",
            "mixed_prior_fixed/healthy-seed0-mixed/subjset.pkl\n",
            "mixed_prior_fixed/healthy-seed0-mixed/._.DS_Store\n",
            "mixed_prior_fixed/healthy-seed0-mixed/.DS_Store\n",
            "mixed_prior_fixed/healthy-seed0-mixed/metadata.txt\n",
            "mixed_prior_fixed/healthy-seed0-mixed/params.pkl\n",
            "mixed_prior_fixed/healthy-seed0-mixed/mcmc.pkl\n",
            "mixed_prior_fixed/healthy-seed0-mixed/traces.hdf5\n",
            "mixed_prior_fixed/uc-seed0-mixed/subjset.pkl\n",
            "mixed_prior_fixed/uc-seed0-mixed/._.DS_Store\n",
            "mixed_prior_fixed/uc-seed0-mixed/.DS_Store\n",
            "mixed_prior_fixed/uc-seed0-mixed/metadata.txt\n",
            "mixed_prior_fixed/uc-seed0-mixed/params.pkl\n",
            "mixed_prior_fixed/uc-seed0-mixed/mcmc.pkl\n",
            "mixed_prior_fixed/uc-seed0-mixed/traces.hdf5\n",
            "mixed_prior_unfixed/\n",
            "mixed_prior_unfixed/uc-seed0-mixed/\n",
            "mixed_prior_unfixed/._.DS_Store\n",
            "mixed_prior_unfixed/.DS_Store\n",
            "mixed_prior_unfixed/healthy-seed0-mixed/\n",
            "mixed_prior_unfixed/healthy-seed0-mixed/subjset.pkl\n",
            "mixed_prior_unfixed/healthy-seed0-mixed/._.DS_Store\n",
            "mixed_prior_unfixed/healthy-seed0-mixed/.DS_Store\n",
            "mixed_prior_unfixed/healthy-seed0-mixed/metadata.txt\n",
            "mixed_prior_unfixed/healthy-seed0-mixed/params.pkl\n",
            "mixed_prior_unfixed/healthy-seed0-mixed/mcmc.pkl\n",
            "mixed_prior_unfixed/healthy-seed0-mixed/traces.hdf5\n",
            "mixed_prior_unfixed/uc-seed0-mixed/subjset.pkl\n",
            "mixed_prior_unfixed/uc-seed0-mixed/._.DS_Store\n",
            "mixed_prior_unfixed/uc-seed0-mixed/.DS_Store\n",
            "mixed_prior_unfixed/uc-seed0-mixed/metadata.txt\n",
            "mixed_prior_unfixed/uc-seed0-mixed/params.pkl\n",
            "mixed_prior_unfixed/uc-seed0-mixed/mcmc.pkl\n",
            "mixed_prior_unfixed/uc-seed0-mixed/traces.hdf5\n",
            "forward_sims/\n",
            "forward_sims/healthy-cv5-validate-5-full-truth.npy\n",
            "forward_sims/uc-cv10-validate-10-full.npy\n",
            "forward_sims/healthy-cv4-validate-4-full.npy\n",
            "forward_sims/uc-cv8-validate-8-full-times.npy\n",
            "forward_sims/healthy-cv5-validate-5-full.npy\n",
            "forward_sims/._.DS_Store\n",
            "forward_sims/.DS_Store\n",
            "forward_sims/healthy-cv2-validate-2-full-truth.npy\n",
            "forward_sims/uc-cv10-validate-10-full-truth.npy\n",
            "forward_sims/uc-cv7-validate-7-full-times.npy\n",
            "forward_sims/healthy-cv4-validate-4-full-times.npy\n",
            "forward_sims/healthy-cv3-validate-3-full.npy\n",
            "forward_sims/healthy-cv2-validate-2-full.npy\n",
            "forward_sims/uc-cv9-validate-9-full-truth.npy\n",
            "forward_sims/uc-cv8-validate-8-full.npy\n",
            "forward_sims/uc-cv9-validate-9-full.npy\n",
            "forward_sims/healthy-cv3-validate-3-full-times.npy\n",
            "forward_sims/uc-cv6-validate-6-full-truth.npy\n",
            "forward_sims/healthy-cv5-validate-5-full-times.npy\n",
            "forward_sims/uc-cv8-validate-8-full-truth.npy\n",
            "forward_sims/healthy-cv2-validate-2-full-times.npy\n",
            "forward_sims/uc-cv7-validate-7-full-truth.npy\n",
            "forward_sims/uc-cv10-validate-10-full-times.npy\n",
            "forward_sims/uc-cv6-validate-6-full.npy\n",
            "forward_sims/healthy-cv4-validate-4-full-truth.npy\n",
            "forward_sims/uc-cv7-validate-7-full.npy\n",
            "forward_sims/uc-cv9-validate-9-full-times.npy\n",
            "forward_sims/healthy-cv3-validate-3-full-truth.npy\n",
            "forward_sims/uc-cv6-validate-6-full-times.npy\n",
            "clv_results/\n",
            "clv_results/results_abs_ridge/\n",
            "clv_results/results_abs_elastic/\n",
            "clv_results/._.DS_Store\n",
            "clv_results/.DS_Store\n",
            "clv_results/results_rel_elastic/\n",
            "clv_results/results_rel_ridge/\n",
            "clv_results/results_rel_ridge/gibson_uc_predictions-1-glv-model.pkl\n",
            "clv_results/results_rel_ridge/._.DS_Store\n",
            "clv_results/results_rel_ridge/.DS_Store\n",
            "clv_results/results_rel_ridge/gibson_uc_predictions-2-glv-model.pkl\n",
            "clv_results/results_rel_ridge/forward_sims_rel_ridge.zip\n",
            "clv_results/results_rel_ridge/gibson_healthy_predictions-0-glv-model.pkl\n",
            "clv_results/results_rel_ridge/old/\n",
            "clv_results/results_rel_ridge/gibson_healthy_predictions-3-glv-model.pkl\n",
            "clv_results/results_rel_ridge/gibson_healthy_predictions-2-glv-model.pkl\n",
            "clv_results/results_rel_ridge/gibson_healthy_predictions-1-glv-model.pkl\n",
            "clv_results/results_rel_ridge/gibson_uc_predictions-2-glv\n",
            "clv_results/results_rel_ridge/gibson_uc_predictions-3-glv\n",
            "clv_results/results_rel_ridge/gibson_uc_predictions-1-glv\n",
            "clv_results/results_rel_ridge/gibson_uc_predictions-3-glv-model.pkl\n",
            "clv_results/results_rel_ridge/gibson_uc_predictions-0-glv\n",
            "clv_results/results_rel_ridge/gibson_uc_predictions-4-glv-model.pkl\n",
            "clv_results/results_rel_ridge/gibson_uc_predictions-4-glv\n",
            "clv_results/results_rel_ridge/gibson_healthy_predictions-3-glv\n",
            "clv_results/results_rel_ridge/gibson_healthy_predictions-2-glv\n",
            "clv_results/results_rel_ridge/gibson_uc_predictions-0-glv-model.pkl\n",
            "clv_results/results_rel_ridge/gibson_healthy_predictions-0-glv\n",
            "clv_results/results_rel_ridge/gibson_healthy_predictions-1-glv\n",
            "clv_results/results_rel_ridge/old/gibson_uc_predictions-1-glv-model.pkl\n",
            "clv_results/results_rel_ridge/old/gibson_uc_predictions-2-glv-model.pkl\n",
            "clv_results/results_rel_ridge/old/gibson_healthy_predictions-0-glv-model.pkl\n",
            "clv_results/results_rel_ridge/old/gibson_healthy_predictions-3-glv-model.pkl\n",
            "clv_results/results_rel_ridge/old/gibson_healthy_predictions-2-glv-model.pkl\n",
            "clv_results/results_rel_ridge/old/gibson_healthy_predictions-1-glv-model.pkl\n",
            "clv_results/results_rel_ridge/old/gibson_uc_predictions-2-glv\n",
            "clv_results/results_rel_ridge/old/gibson_uc_predictions-3-glv\n",
            "clv_results/results_rel_ridge/old/gibson_uc_predictions-1-glv\n",
            "clv_results/results_rel_ridge/old/gibson_uc_predictions-3-glv-model.pkl\n",
            "clv_results/results_rel_ridge/old/gibson_uc_predictions-0-glv\n",
            "clv_results/results_rel_ridge/old/gibson_uc_predictions-4-glv-model.pkl\n",
            "clv_results/results_rel_ridge/old/gibson_uc_predictions-4-glv\n",
            "clv_results/results_rel_ridge/old/gibson_healthy_predictions-3-glv\n",
            "clv_results/results_rel_ridge/old/gibson_healthy_predictions-2-glv\n",
            "clv_results/results_rel_ridge/old/gibson_uc_predictions-0-glv-model.pkl\n",
            "clv_results/results_rel_ridge/old/gibson_healthy_predictions-0-glv\n",
            "clv_results/results_rel_ridge/old/gibson_healthy_predictions-1-glv\n",
            "clv_results/results_rel_elastic/gibson_uc_predictions-1-glv-model.pkl\n",
            "clv_results/results_rel_elastic/gibson_healthy_predictions-0-lra\n",
            "clv_results/results_rel_elastic/gibson_healthy_predictions-0-lra-model.pkl\n",
            "clv_results/results_rel_elastic/gibson_uc_predictions-2-glv-ra-model.pkl\n",
            "clv_results/results_rel_elastic/gibson_healthy_predictions-2-glv-ra-model.pkl\n",
            "clv_results/results_rel_elastic/gibson_healthy_predictions-1-lra\n",
            "clv_results/results_rel_elastic/gibson_healthy_predictions-2-clv-model.pkl\n",
            "clv_results/results_rel_elastic/gibson_healthy_predictions-3-lra\n",
            "clv_results/results_rel_elastic/gibson_healthy_predictions-1-glv-ra\n",
            "clv_results/results_rel_elastic/gibson_uc_predictions-4-lra\n",
            "clv_results/results_rel_elastic/forward_sims_rel_elastic.zip\n",
            "clv_results/results_rel_elastic/gibson_healthy_predictions-2-lra\n",
            "clv_results/results_rel_elastic/gibson_healthy_predictions-3-glv-ra\n",
            "clv_results/results_rel_elastic/._.DS_Store\n",
            "clv_results/results_rel_elastic/.DS_Store\n",
            "clv_results/results_rel_elastic/gibson_uc_predictions-1-lra\n",
            "clv_results/results_rel_elastic/gibson_uc_predictions-0-lra\n",
            "clv_results/results_rel_elastic/gibson_healthy_predictions-3-lra-model.pkl\n",
            "clv_results/results_rel_elastic/gibson_uc_predictions-2-lra\n",
            "clv_results/results_rel_elastic/gibson_uc_predictions-2-glv-model.pkl\n",
            "clv_results/results_rel_elastic/gibson_uc_predictions-3-lra\n",
            "clv_results/results_rel_elastic/gibson_healthy_predictions-1-clv-model.pkl\n",
            "clv_results/results_rel_elastic/gibson_uc_predictions-1-glv-ra\n",
            "clv_results/results_rel_elastic/gibson_healthy_predictions-3-glv-ra-model.pkl\n",
            "clv_results/results_rel_elastic/gibson_uc_predictions-3-glv-ra-model.pkl\n",
            "clv_results/results_rel_elastic/gibson_uc_predictions-3-clv-model.pkl\n",
            "clv_results/results_rel_elastic/gibson_healthy_predictions-0-glv-model.pkl\n",
            "clv_results/results_rel_elastic/gibson_uc_predictions-1-lra-model.pkl\n",
            "clv_results/results_rel_elastic/gibson_uc_predictions-0-clv-model.pkl\n",
            "clv_results/results_rel_elastic/old/\n",
            "clv_results/results_rel_elastic/gibson_uc_predictions-4-clv-model.pkl\n",
            "clv_results/results_rel_elastic/gibson_uc_predictions-2-lra-model.pkl\n",
            "clv_results/results_rel_elastic/gibson_healthy_predictions-3-glv-model.pkl\n",
            "clv_results/results_rel_elastic/gibson_uc_predictions-3-glv-ra\n",
            "clv_results/results_rel_elastic/gibson_healthy_predictions-2-glv-model.pkl\n",
            "clv_results/results_rel_elastic/gibson_uc_predictions-3-lra-model.pkl\n",
            "clv_results/results_rel_elastic/gibson_uc_predictions-1-clv-model.pkl\n",
            "clv_results/results_rel_elastic/gibson_healthy_predictions-0-glv-ra\n",
            "clv_results/results_rel_elastic/gibson_healthy_predictions-0-glv-ra-model.pkl\n",
            "clv_results/results_rel_elastic/gibson_uc_predictions-0-glv-ra-model.pkl\n",
            "clv_results/results_rel_elastic/gibson_uc_predictions-4-glv-ra-model.pkl\n",
            "clv_results/results_rel_elastic/gibson_uc_predictions-0-lra-model.pkl\n",
            "clv_results/results_rel_elastic/gibson_healthy_predictions-1-glv-model.pkl\n",
            "clv_results/results_rel_elastic/gibson_uc_predictions-4-glv-ra\n",
            "clv_results/results_rel_elastic/gibson_healthy_predictions-2-glv-ra\n",
            "clv_results/results_rel_elastic/gibson_uc_predictions-4-lra-model.pkl\n",
            "clv_results/results_rel_elastic/gibson_uc_predictions-2-clv-model.pkl\n",
            "clv_results/results_rel_elastic/gibson_uc_predictions-2-glv\n",
            "clv_results/results_rel_elastic/gibson_uc_predictions-0-clv\n",
            "clv_results/results_rel_elastic/gibson_uc_predictions-1-clv\n",
            "clv_results/results_rel_elastic/gibson_uc_predictions-3-glv\n",
            "clv_results/results_rel_elastic/gibson_healthy_predictions-0-clv-model.pkl\n",
            "clv_results/results_rel_elastic/gibson_uc_predictions-1-glv\n",
            "clv_results/results_rel_elastic/gibson_uc_predictions-3-clv\n",
            "clv_results/results_rel_elastic/gibson_uc_predictions-2-clv\n",
            "clv_results/results_rel_elastic/gibson_uc_predictions-3-glv-model.pkl\n",
            "clv_results/results_rel_elastic/gibson_uc_predictions-0-glv-ra\n",
            "clv_results/results_rel_elastic/gibson_healthy_predictions-2-lra-model.pkl\n",
            "clv_results/results_rel_elastic/gibson_uc_predictions-0-glv\n",
            "clv_results/results_rel_elastic/gibson_uc_predictions-1-glv-ra-model.pkl\n",
            "clv_results/results_rel_elastic/gibson_healthy_predictions-1-glv-ra-model.pkl\n",
            "clv_results/results_rel_elastic/gibson_uc_predictions-4-glv-model.pkl\n",
            "clv_results/results_rel_elastic/gibson_healthy_predictions-3-clv-model.pkl\n",
            "clv_results/results_rel_elastic/gibson_healthy_predictions-1-clv\n",
            "clv_results/results_rel_elastic/gibson_uc_predictions-4-glv\n",
            "clv_results/results_rel_elastic/gibson_healthy_predictions-3-glv\n",
            "clv_results/results_rel_elastic/gibson_healthy_predictions-2-glv\n",
            "clv_results/results_rel_elastic/gibson_healthy_predictions-1-lra-model.pkl\n",
            "clv_results/results_rel_elastic/gibson_uc_predictions-0-glv-model.pkl\n",
            "clv_results/results_rel_elastic/gibson_healthy_predictions-0-clv\n",
            "clv_results/results_rel_elastic/gibson_uc_predictions-2-glv-ra\n",
            "clv_results/results_rel_elastic/gibson_healthy_predictions-2-clv\n",
            "clv_results/results_rel_elastic/gibson_healthy_predictions-0-glv\n",
            "clv_results/results_rel_elastic/gibson_uc_predictions-4-clv\n",
            "clv_results/results_rel_elastic/gibson_healthy_predictions-1-glv\n",
            "clv_results/results_rel_elastic/gibson_healthy_predictions-3-clv\n",
            "clv_results/results_rel_elastic/old/gibson_uc_predictions-1-glv-model.pkl\n",
            "clv_results/results_rel_elastic/old/gibson_healthy_predictions-0-lra\n",
            "clv_results/results_rel_elastic/old/gibson_healthy_predictions-0-lra-model.pkl\n",
            "clv_results/results_rel_elastic/old/gibson_uc_predictions-2-glv-ra-model.pkl\n",
            "clv_results/results_rel_elastic/old/gibson_healthy_predictions-2-glv-ra-model.pkl\n",
            "clv_results/results_rel_elastic/old/gibson_healthy_predictions-1-lra\n",
            "clv_results/results_rel_elastic/old/gibson_healthy_predictions-2-clv-model.pkl\n",
            "clv_results/results_rel_elastic/old/gibson_healthy_predictions-3-lra\n",
            "clv_results/results_rel_elastic/old/gibson_healthy_predictions-1-glv-ra\n",
            "clv_results/results_rel_elastic/old/gibson_uc_predictions-4-lra\n",
            "clv_results/results_rel_elastic/old/gibson_healthy_predictions-2-lra\n",
            "clv_results/results_rel_elastic/old/gibson_healthy_predictions-3-glv-ra\n",
            "clv_results/results_rel_elastic/old/gibson_uc_predictions-1-lra\n",
            "clv_results/results_rel_elastic/old/gibson_uc_predictions-0-lra\n",
            "clv_results/results_rel_elastic/old/gibson_healthy_predictions-3-lra-model.pkl\n",
            "clv_results/results_rel_elastic/old/gibson_uc_predictions-2-lra\n",
            "clv_results/results_rel_elastic/old/gibson_uc_predictions-2-glv-model.pkl\n",
            "clv_results/results_rel_elastic/old/gibson_uc_predictions-3-lra\n",
            "clv_results/results_rel_elastic/old/gibson_healthy_predictions-1-clv-model.pkl\n",
            "clv_results/results_rel_elastic/old/gibson_uc_predictions-1-glv-ra\n",
            "clv_results/results_rel_elastic/old/gibson_healthy_predictions-3-glv-ra-model.pkl\n",
            "clv_results/results_rel_elastic/old/gibson_uc_predictions-3-glv-ra-model.pkl\n",
            "clv_results/results_rel_elastic/old/gibson_uc_predictions-3-clv-model.pkl\n",
            "clv_results/results_rel_elastic/old/gibson_healthy_predictions-0-glv-model.pkl\n",
            "clv_results/results_rel_elastic/old/gibson_uc_predictions-1-lra-model.pkl\n",
            "clv_results/results_rel_elastic/old/gibson_uc_predictions-0-clv-model.pkl\n",
            "clv_results/results_rel_elastic/old/gibson_uc_predictions-4-clv-model.pkl\n",
            "clv_results/results_rel_elastic/old/gibson_uc_predictions-2-lra-model.pkl\n",
            "clv_results/results_rel_elastic/old/gibson_healthy_predictions-3-glv-model.pkl\n",
            "clv_results/results_rel_elastic/old/gibson_uc_predictions-3-glv-ra\n",
            "clv_results/results_rel_elastic/old/gibson_healthy_predictions-2-glv-model.pkl\n",
            "clv_results/results_rel_elastic/old/gibson_uc_predictions-3-lra-model.pkl\n",
            "clv_results/results_rel_elastic/old/gibson_uc_predictions-1-clv-model.pkl\n",
            "clv_results/results_rel_elastic/old/gibson_healthy_predictions-0-glv-ra\n",
            "clv_results/results_rel_elastic/old/gibson_healthy_predictions-0-glv-ra-model.pkl\n",
            "clv_results/results_rel_elastic/old/gibson_uc_predictions-0-glv-ra-model.pkl\n",
            "clv_results/results_rel_elastic/old/gibson_uc_predictions-4-glv-ra-model.pkl\n",
            "clv_results/results_rel_elastic/old/gibson_uc_predictions-0-lra-model.pkl\n",
            "clv_results/results_rel_elastic/old/gibson_healthy_predictions-1-glv-model.pkl\n",
            "clv_results/results_rel_elastic/old/gibson_uc_predictions-4-glv-ra\n",
            "clv_results/results_rel_elastic/old/gibson_healthy_predictions-2-glv-ra\n",
            "clv_results/results_rel_elastic/old/gibson_uc_predictions-4-lra-model.pkl\n",
            "clv_results/results_rel_elastic/old/gibson_uc_predictions-2-clv-model.pkl\n",
            "clv_results/results_rel_elastic/old/gibson_uc_predictions-2-glv\n",
            "clv_results/results_rel_elastic/old/gibson_uc_predictions-0-clv\n",
            "clv_results/results_rel_elastic/old/gibson_uc_predictions-1-clv\n",
            "clv_results/results_rel_elastic/old/gibson_uc_predictions-3-glv\n",
            "clv_results/results_rel_elastic/old/gibson_healthy_predictions-0-clv-model.pkl\n",
            "clv_results/results_rel_elastic/old/gibson_uc_predictions-1-glv\n",
            "clv_results/results_rel_elastic/old/gibson_uc_predictions-3-clv\n",
            "clv_results/results_rel_elastic/old/gibson_uc_predictions-2-clv\n",
            "clv_results/results_rel_elastic/old/gibson_uc_predictions-3-glv-model.pkl\n",
            "clv_results/results_rel_elastic/old/gibson_uc_predictions-0-glv-ra\n",
            "clv_results/results_rel_elastic/old/gibson_healthy_predictions-2-lra-model.pkl\n",
            "clv_results/results_rel_elastic/old/gibson_uc_predictions-0-glv\n",
            "clv_results/results_rel_elastic/old/gibson_uc_predictions-1-glv-ra-model.pkl\n",
            "clv_results/results_rel_elastic/old/gibson_healthy_predictions-1-glv-ra-model.pkl\n",
            "clv_results/results_rel_elastic/old/gibson_uc_predictions-4-glv-model.pkl\n",
            "clv_results/results_rel_elastic/old/gibson_healthy_predictions-3-clv-model.pkl\n",
            "clv_results/results_rel_elastic/old/gibson_healthy_predictions-1-clv\n",
            "clv_results/results_rel_elastic/old/gibson_uc_predictions-4-glv\n",
            "clv_results/results_rel_elastic/old/gibson_healthy_predictions-3-glv\n",
            "clv_results/results_rel_elastic/old/gibson_healthy_predictions-2-glv\n",
            "clv_results/results_rel_elastic/old/gibson_healthy_predictions-1-lra-model.pkl\n",
            "clv_results/results_rel_elastic/old/gibson_uc_predictions-0-glv-model.pkl\n",
            "clv_results/results_rel_elastic/old/gibson_healthy_predictions-0-clv\n",
            "clv_results/results_rel_elastic/old/gibson_uc_predictions-2-glv-ra\n",
            "clv_results/results_rel_elastic/old/gibson_healthy_predictions-2-clv\n",
            "clv_results/results_rel_elastic/old/gibson_healthy_predictions-0-glv\n",
            "clv_results/results_rel_elastic/old/gibson_uc_predictions-4-clv\n",
            "clv_results/results_rel_elastic/old/gibson_healthy_predictions-1-glv\n",
            "clv_results/results_rel_elastic/old/gibson_healthy_predictions-3-clv\n",
            "clv_results/results_abs_elastic/gibson_uc_predictions-3-glv-abs\n",
            "clv_results/results_abs_elastic/gibson_uc_predictions-2-glv-abs-model.pkl\n",
            "clv_results/results_abs_elastic/gibson_uc_predictions-2-glv-abs\n",
            "clv_results/results_abs_elastic/._.DS_Store\n",
            "clv_results/results_abs_elastic/.DS_Store\n",
            "clv_results/results_abs_elastic/gibson_uc_predictions-3-glv-abs-model.pkl\n",
            "clv_results/results_abs_elastic/gibson_uc_predictions-0-glv-abs\n",
            "clv_results/results_abs_elastic/gibson_uc_predictions-0-glv-abs-model.pkl\n",
            "clv_results/results_abs_elastic/gibson_uc_predictions-4-glv-abs-model.pkl\n",
            "clv_results/results_abs_elastic/old/\n",
            "clv_results/results_abs_elastic/gibson_uc_predictions-1-glv-abs\n",
            "clv_results/results_abs_elastic/gibson_uc_predictions-1-glv-abs-model.pkl\n",
            "clv_results/results_abs_elastic/gibson_healthy_predictions-1-glv-abs\n",
            "clv_results/results_abs_elastic/gibson_uc_predictions-4-glv-abs\n",
            "clv_results/results_abs_elastic/gibson_healthy_predictions-2-glv-abs-model.pkl\n",
            "clv_results/results_abs_elastic/gibson_healthy_predictions-0-glv-abs\n",
            "clv_results/results_abs_elastic/gibson_healthy_predictions-3-glv-abs-model.pkl\n",
            "clv_results/results_abs_elastic/gibson_healthy_predictions-0-glv-abs-model.pkl\n",
            "clv_results/results_abs_elastic/gibson_healthy_predictions-2-glv-abs\n",
            "clv_results/results_abs_elastic/forward_sims_abs_elastic.zip\n",
            "clv_results/results_abs_elastic/gibson_healthy_predictions-3-glv-abs\n",
            "clv_results/results_abs_elastic/gibson_healthy_predictions-1-glv-abs-model.pkl\n",
            "clv_results/results_abs_elastic/old/gibson_uc_predictions-3-glv-abs\n",
            "clv_results/results_abs_elastic/old/gibson_uc_predictions-2-glv-abs-model.pkl\n",
            "clv_results/results_abs_elastic/old/gibson_uc_predictions-2-glv-abs\n",
            "clv_results/results_abs_elastic/old/gibson_uc_predictions-3-glv-abs-model.pkl\n",
            "clv_results/results_abs_elastic/old/gibson_uc_predictions-0-glv-abs\n",
            "clv_results/results_abs_elastic/old/gibson_uc_predictions-0-glv-abs-model.pkl\n",
            "clv_results/results_abs_elastic/old/gibson_uc_predictions-4-glv-abs-model.pkl\n",
            "clv_results/results_abs_elastic/old/gibson_uc_predictions-1-glv-abs\n",
            "clv_results/results_abs_elastic/old/gibson_uc_predictions-1-glv-abs-model.pkl\n",
            "clv_results/results_abs_elastic/old/gibson_healthy_predictions-1-glv-abs\n",
            "clv_results/results_abs_elastic/old/gibson_uc_predictions-4-glv-abs\n",
            "clv_results/results_abs_elastic/old/gibson_healthy_predictions-2-glv-abs-model.pkl\n",
            "clv_results/results_abs_elastic/old/gibson_healthy_predictions-0-glv-abs\n",
            "clv_results/results_abs_elastic/old/gibson_healthy_predictions-3-glv-abs-model.pkl\n",
            "clv_results/results_abs_elastic/old/gibson_healthy_predictions-0-glv-abs-model.pkl\n",
            "clv_results/results_abs_elastic/old/gibson_healthy_predictions-2-glv-abs\n",
            "clv_results/results_abs_elastic/old/gibson_healthy_predictions-3-glv-abs\n",
            "clv_results/results_abs_elastic/old/gibson_healthy_predictions-1-glv-abs-model.pkl\n",
            "clv_results/results_abs_ridge/._.DS_Store\n",
            "clv_results/results_abs_ridge/.DS_Store\n",
            "clv_results/results_abs_ridge/forward_sims_abs_ridge/\n",
            "clv_results/results_abs_ridge/old/\n",
            "clv_results/results_abs_ridge/old/gibson_uc_predictions-3-glv-abs\n",
            "clv_results/results_abs_ridge/old/gibson_uc_predictions-2-glv-abs-model.pkl\n",
            "clv_results/results_abs_ridge/old/gibson_uc_predictions-2-glv-abs\n",
            "clv_results/results_abs_ridge/old/gibson_uc_predictions-3-glv-abs-model.pkl\n",
            "clv_results/results_abs_ridge/old/gibson_uc_predictions-0-glv-abs\n",
            "clv_results/results_abs_ridge/old/gibson_uc_predictions-0-glv-abs-model.pkl\n",
            "clv_results/results_abs_ridge/old/gibson_uc_predictions-4-glv-abs-model.pkl\n",
            "clv_results/results_abs_ridge/old/gibson_uc_predictions-1-glv-abs\n",
            "clv_results/results_abs_ridge/old/gibson_uc_predictions-1-glv-abs-model.pkl\n",
            "clv_results/results_abs_ridge/old/gibson_healthy_predictions-1-glv-abs\n",
            "clv_results/results_abs_ridge/old/gibson_uc_predictions-4-glv-abs\n",
            "clv_results/results_abs_ridge/old/gibson_healthy_predictions-2-glv-abs-model.pkl\n",
            "clv_results/results_abs_ridge/old/gibson_healthy_predictions-0-glv-abs\n",
            "clv_results/results_abs_ridge/old/gibson_healthy_predictions-3-glv-abs-model.pkl\n",
            "clv_results/results_abs_ridge/old/gibson_healthy_predictions-0-glv-abs-model.pkl\n",
            "clv_results/results_abs_ridge/old/gibson_healthy_predictions-2-glv-abs\n",
            "clv_results/results_abs_ridge/old/gibson_healthy_predictions-3-glv-abs\n",
            "clv_results/results_abs_ridge/old/gibson_healthy_predictions-1-glv-abs-model.pkl\n",
            "clv_results/results_abs_ridge/forward_sims_abs_ridge/gibson_uc_predictions-3-glv-abs\n",
            "clv_results/results_abs_ridge/forward_sims_abs_ridge/gibson_uc_predictions-2-glv-abs-model.pkl\n",
            "clv_results/results_abs_ridge/forward_sims_abs_ridge/gibson_uc_predictions-2-glv-abs\n",
            "clv_results/results_abs_ridge/forward_sims_abs_ridge/gibson_uc_predictions-3-glv-abs-model.pkl\n",
            "clv_results/results_abs_ridge/forward_sims_abs_ridge/gibson_uc_predictions-0-glv-abs\n",
            "clv_results/results_abs_ridge/forward_sims_abs_ridge/gibson_uc_predictions-0-glv-abs-model.pkl\n",
            "clv_results/results_abs_ridge/forward_sims_abs_ridge/gibson_uc_predictions-4-glv-abs-model.pkl\n",
            "clv_results/results_abs_ridge/forward_sims_abs_ridge/gibson_uc_predictions-1-glv-abs\n",
            "clv_results/results_abs_ridge/forward_sims_abs_ridge/forward_sims_abs_ridge.zip\n",
            "clv_results/results_abs_ridge/forward_sims_abs_ridge/gibson_uc_predictions-1-glv-abs-model.pkl\n",
            "clv_results/results_abs_ridge/forward_sims_abs_ridge/gibson_healthy_predictions-1-glv-abs\n",
            "clv_results/results_abs_ridge/forward_sims_abs_ridge/gibson_uc_predictions-4-glv-abs\n",
            "clv_results/results_abs_ridge/forward_sims_abs_ridge/gibson_healthy_predictions-2-glv-abs-model.pkl\n",
            "clv_results/results_abs_ridge/forward_sims_abs_ridge/gibson_healthy_predictions-0-glv-abs\n",
            "clv_results/results_abs_ridge/forward_sims_abs_ridge/gibson_healthy_predictions-3-glv-abs-model.pkl\n",
            "clv_results/results_abs_ridge/forward_sims_abs_ridge/gibson_healthy_predictions-0-glv-abs-model.pkl\n",
            "clv_results/results_abs_ridge/forward_sims_abs_ridge/gibson_healthy_predictions-2-glv-abs\n",
            "clv_results/results_abs_ridge/forward_sims_abs_ridge/gibson_healthy_predictions-3-glv-abs\n",
            "clv_results/results_abs_ridge/forward_sims_abs_ridge/gibson_healthy_predictions-1-glv-abs-model.pkl\n",
            "coarsening/\n",
            "coarsening/._pna_arithmetic_mean.jpg\n",
            "coarsening/pna_arithmetic_mean.jpg\n",
            "coarsening/sanity_test.txt\n",
            "coarsening/arithmetic_mean_data.csv\n",
            "coarsening/distance.csv\n",
            "coarsening/._arithmetic_mean_null_all.csv\n",
            "coarsening/arithmetic_mean_null_all.csv\n",
            "output/gibson/processed_data_all/\n",
            "output/gibson/processed_data_all/gibson_replicates_agg.fa\n",
            "output/gibson/processed_data_all/gibson_healthy_agg.fa\n",
            "output/gibson/processed_data_all/gibson_uc_agg.pkl\n",
            "output/gibson/processed_data_all/gibson_healthy_agg_taxa.pkl\n",
            "output/gibson/processed_data_all/gibson_uc_agg_taxa_filtered.pkl\n",
            "output/gibson/processed_data_all/gibson_inoculum_agg_taxa.pkl\n",
            "output/gibson/processed_data_all/gibson_replicates_agg_taxa.pkl\n",
            "output/gibson/processed_data_all/gibson_uc_agg_taxa.pkl\n",
            "output/gibson/processed_data_all/gibson_replicates_agg_taxa_filtered1.pkl\n",
            "output/gibson/processed_data_all/gibson_healthy_agg.pkl\n",
            "output/gibson/processed_data_all/gibson_replicates_agg_taxa_filtered2.pkl\n",
            "output/gibson/processed_data_all/gibson_uc_agg.fa\n",
            "output/gibson/processed_data_all/gibson_replicates_agg_taxa_filtered3.pkl\n",
            "output/gibson/processed_data_all/gibson_healthy_agg_taxa_filtered.pkl\n",
            "output/gibson/processed_data_all/gibson_uc_agg_taxa_filtered2.pkl\n",
            "output/gibson/processed_data_all/gibson_uc_agg_taxa_filtered3.pkl\n",
            "output/gibson/processed_data_all/gibson_healthy_agg_taxa_filtered1.pkl\n",
            "output/gibson/processed_data_all/gibson_healthy_agg_taxa_filtered3.pkl\n",
            "output/gibson/processed_data_all/gibson_uc_agg_taxa_filtered1.pkl\n",
            "output/gibson/processed_data_all/gibson_healthy_agg_taxa_filtered2.pkl\n",
            "output/gibson/processed_data_all/gibson_replicates_agg.pkl\n",
            "output/gibson/processed_data_all/gibson_replicates_agg_taxa_filtered.pkl\n",
            "output/gibson/processed_data_all/gibson_inoculum_agg.fa\n",
            "output/gibson/processed_data_all/gibson_inoculum_agg.pkl\n"
          ]
        }
      ],
      "source": [
        "!tar -xzvf \"mixed_prior_fixed.tgz\" \n",
        "!tar -xzvf \"mixed_prior_unfixed.tgz\" \n",
        "!tar -xzvf \"forward_sims.tgz\" \n",
        "!tar -xzvf \"other_files.tgz\" "
      ]
    },
    {
      "cell_type": "code",
      "execution_count": null,
      "metadata": {
        "colab": {
          "base_uri": "https://localhost:8080/"
        },
        "id": "w37zPcAr35ZX",
        "outputId": "07553a1f-2f73-4bee-db81-f8c52be2d508"
      },
      "outputs": [
        {
          "name": "stdout",
          "output_type": "stream",
          "text": [
            "Cloning into 'MDSINE2'...\n",
            "remote: Enumerating objects: 2952, done.\u001b[K\n",
            "remote: Counting objects: 100% (861/861), done.\u001b[K\n",
            "remote: Compressing objects: 100% (581/581), done.\u001b[K\n",
            "remote: Total 2952 (delta 577), reused 531 (delta 271), pack-reused 2091\u001b[K\n",
            "Receiving objects: 100% (2952/2952), 78.19 MiB | 17.18 MiB/s, done.\n",
            "Resolving deltas: 100% (1867/1867), done.\n"
          ]
        }
      ],
      "source": [
        "!git clone https://github.com/gerberlab/MDSINE2"
      ]
    },
    {
      "cell_type": "code",
      "execution_count": null,
      "metadata": {
        "colab": {
          "base_uri": "https://localhost:8080/",
          "height": 1000
        },
        "id": "wlNyVFu437ce",
        "outputId": "04e4dfc5-1b8f-4dd9-bde8-21e045f3a1d8"
      },
      "outputs": [
        {
          "name": "stdout",
          "output_type": "stream",
          "text": [
            "Processing ./MDSINE2\n",
            "\u001b[33m  DEPRECATION: A future pip version will change local packages to be built in-place without first copying to a temporary directory. We recommend you use --use-feature=in-tree-build to test your packages with this new behavior before it becomes the default.\n",
            "   pip 21.3 will remove support for this functionality. You can find discussion regarding this at https://github.com/pypa/pip/issues/7555.\u001b[0m\n",
            "Requirement already satisfied: numpy>=1.19.4 in /usr/local/lib/python3.7/dist-packages (from mdsine2==0.4.5) (1.19.5)\n",
            "Requirement already satisfied: pandas>=1.1.4 in /usr/local/lib/python3.7/dist-packages (from mdsine2==0.4.5) (1.1.5)\n",
            "Requirement already satisfied: scipy in /usr/local/lib/python3.7/dist-packages (from mdsine2==0.4.5) (1.4.1)\n",
            "Collecting matplotlib>=3.3.1\n",
            "  Downloading matplotlib-3.5.1-cp37-cp37m-manylinux_2_5_x86_64.manylinux1_x86_64.whl (11.2 MB)\n",
            "\u001b[K     |████████████████████████████████| 11.2 MB 5.1 MB/s \n",
            "\u001b[?25hRequirement already satisfied: sklearn in /usr/local/lib/python3.7/dist-packages (from mdsine2==0.4.5) (0.0)\n",
            "Requirement already satisfied: seaborn>=0.11.0 in /usr/local/lib/python3.7/dist-packages (from mdsine2==0.4.5) (0.11.2)\n",
            "Collecting h5py==2.9.0\n",
            "  Downloading h5py-2.9.0-cp37-cp37m-manylinux1_x86_64.whl (2.8 MB)\n",
            "\u001b[K     |████████████████████████████████| 2.8 MB 37.2 MB/s \n",
            "\u001b[?25hCollecting psutil==5.7.3\n",
            "  Downloading psutil-5.7.3.tar.gz (465 kB)\n",
            "\u001b[K     |████████████████████████████████| 465 kB 51.0 MB/s \n",
            "\u001b[?25hCollecting networkx==2.3\n",
            "  Downloading networkx-2.3.zip (1.7 MB)\n",
            "\u001b[K     |████████████████████████████████| 1.7 MB 36.2 MB/s \n",
            "\u001b[?25hCollecting numba==0.52\n",
            "  Downloading numba-0.52.0-cp37-cp37m-manylinux2014_x86_64.whl (3.2 MB)\n",
            "\u001b[K     |████████████████████████████████| 3.2 MB 43.5 MB/s \n",
            "\u001b[?25hCollecting biopython==1.78\n",
            "  Downloading biopython-1.78-cp37-cp37m-manylinux1_x86_64.whl (2.3 MB)\n",
            "\u001b[K     |████████████████████████████████| 2.3 MB 34.2 MB/s \n",
            "\u001b[?25hCollecting treeswift==1.1.14\n",
            "  Downloading treeswift-1.1.14-py2.py3-none-any.whl (32 kB)\n",
            "Collecting py2cytoscape==0.7.1\n",
            "  Downloading py2cytoscape-0.7.1.tar.gz (57 kB)\n",
            "\u001b[K     |████████████████████████████████| 57 kB 4.5 MB/s \n",
            "\u001b[?25hRequirement already satisfied: tqdm in /usr/local/lib/python3.7/dist-packages (from mdsine2==0.4.5) (4.62.3)\n",
            "Collecting PyQt5\n",
            "  Downloading PyQt5-5.15.6-cp36-abi3-manylinux1_x86_64.whl (8.3 MB)\n",
            "\u001b[K     |████████████████████████████████| 8.3 MB 14.8 MB/s \n",
            "\u001b[?25hCollecting ete3\n",
            "  Downloading ete3-3.1.2.tar.gz (4.7 MB)\n",
            "\u001b[K     |████████████████████████████████| 4.7 MB 26.7 MB/s \n",
            "\u001b[?25hRequirement already satisfied: six in /usr/local/lib/python3.7/dist-packages (from h5py==2.9.0->mdsine2==0.4.5) (1.15.0)\n",
            "Requirement already satisfied: decorator>=4.3.0 in /usr/local/lib/python3.7/dist-packages (from networkx==2.3->mdsine2==0.4.5) (4.4.2)\n",
            "Collecting llvmlite<0.36,>=0.35.0\n",
            "  Downloading llvmlite-0.35.0-cp37-cp37m-manylinux2010_x86_64.whl (25.3 MB)\n",
            "\u001b[K     |████████████████████████████████| 25.3 MB 68.3 MB/s \n",
            "\u001b[?25hRequirement already satisfied: setuptools in /usr/local/lib/python3.7/dist-packages (from numba==0.52->mdsine2==0.4.5) (57.4.0)\n",
            "Requirement already satisfied: pydot in /usr/local/lib/python3.7/dist-packages (from py2cytoscape==0.7.1->mdsine2==0.4.5) (1.3.0)\n",
            "Requirement already satisfied: pydotplus in /usr/local/lib/python3.7/dist-packages (from py2cytoscape==0.7.1->mdsine2==0.4.5) (2.0.2)\n",
            "Requirement already satisfied: requests in /usr/local/lib/python3.7/dist-packages (from py2cytoscape==0.7.1->mdsine2==0.4.5) (2.23.0)\n",
            "Requirement already satisfied: pyparsing in /usr/local/lib/python3.7/dist-packages (from py2cytoscape==0.7.1->mdsine2==0.4.5) (3.0.6)\n",
            "Collecting python-igraph\n",
            "  Downloading python-igraph-0.9.8.tar.gz (9.5 kB)\n",
            "Requirement already satisfied: kiwisolver>=1.0.1 in /usr/local/lib/python3.7/dist-packages (from matplotlib>=3.3.1->mdsine2==0.4.5) (1.3.2)\n",
            "Requirement already satisfied: cycler>=0.10 in /usr/local/lib/python3.7/dist-packages (from matplotlib>=3.3.1->mdsine2==0.4.5) (0.11.0)\n",
            "Requirement already satisfied: packaging>=20.0 in /usr/local/lib/python3.7/dist-packages (from matplotlib>=3.3.1->mdsine2==0.4.5) (21.3)\n",
            "Requirement already satisfied: pillow>=6.2.0 in /usr/local/lib/python3.7/dist-packages (from matplotlib>=3.3.1->mdsine2==0.4.5) (7.1.2)\n",
            "Collecting fonttools>=4.22.0\n",
            "  Downloading fonttools-4.28.3-py3-none-any.whl (884 kB)\n",
            "\u001b[K     |████████████████████████████████| 884 kB 40.8 MB/s \n",
            "\u001b[?25hRequirement already satisfied: python-dateutil>=2.7 in /usr/local/lib/python3.7/dist-packages (from matplotlib>=3.3.1->mdsine2==0.4.5) (2.8.2)\n",
            "Requirement already satisfied: pytz>=2017.2 in /usr/local/lib/python3.7/dist-packages (from pandas>=1.1.4->mdsine2==0.4.5) (2018.9)\n",
            "Collecting PyQt5-Qt5>=5.15.2\n",
            "  Downloading PyQt5_Qt5-5.15.2-py3-none-manylinux2014_x86_64.whl (59.9 MB)\n",
            "\u001b[K     |████████████████████████████████| 59.9 MB 88 kB/s \n",
            "\u001b[?25hCollecting PyQt5-sip<13,>=12.8\n",
            "  Downloading PyQt5_sip-12.9.0-cp37-cp37m-manylinux1_x86_64.whl (317 kB)\n",
            "\u001b[K     |████████████████████████████████| 317 kB 38.4 MB/s \n",
            "\u001b[?25hCollecting igraph==0.9.8\n",
            "  Downloading igraph-0.9.8-cp37-cp37m-manylinux_2_12_x86_64.manylinux2010_x86_64.whl (3.2 MB)\n",
            "\u001b[K     |████████████████████████████████| 3.2 MB 38.6 MB/s \n",
            "\u001b[?25hCollecting texttable>=1.6.2\n",
            "  Downloading texttable-1.6.4-py2.py3-none-any.whl (10 kB)\n",
            "Requirement already satisfied: certifi>=2017.4.17 in /usr/local/lib/python3.7/dist-packages (from requests->py2cytoscape==0.7.1->mdsine2==0.4.5) (2021.10.8)\n",
            "Requirement already satisfied: chardet<4,>=3.0.2 in /usr/local/lib/python3.7/dist-packages (from requests->py2cytoscape==0.7.1->mdsine2==0.4.5) (3.0.4)\n",
            "Requirement already satisfied: idna<3,>=2.5 in /usr/local/lib/python3.7/dist-packages (from requests->py2cytoscape==0.7.1->mdsine2==0.4.5) (2.10)\n",
            "Requirement already satisfied: urllib3!=1.25.0,!=1.25.1,<1.26,>=1.21.1 in /usr/local/lib/python3.7/dist-packages (from requests->py2cytoscape==0.7.1->mdsine2==0.4.5) (1.24.3)\n",
            "Requirement already satisfied: scikit-learn in /usr/local/lib/python3.7/dist-packages (from sklearn->mdsine2==0.4.5) (1.0.1)\n",
            "Requirement already satisfied: joblib>=0.11 in /usr/local/lib/python3.7/dist-packages (from scikit-learn->sklearn->mdsine2==0.4.5) (1.1.0)\n",
            "Requirement already satisfied: threadpoolctl>=2.0.0 in /usr/local/lib/python3.7/dist-packages (from scikit-learn->sklearn->mdsine2==0.4.5) (3.0.0)\n",
            "Building wheels for collected packages: mdsine2, networkx, psutil, py2cytoscape, ete3, python-igraph\n",
            "  Building wheel for mdsine2 (setup.py) ... \u001b[?25l\u001b[?25hdone\n",
            "  Created wheel for mdsine2: filename=mdsine2-0.4.5-cp37-cp37m-linux_x86_64.whl size=331224 sha256=5f9acbf09b3ae13770e731bd9f9ed26abd0c1d484bf6585802dd41b198b1bb82\n",
            "  Stored in directory: /tmp/pip-ephem-wheel-cache-6osvyyon/wheels/b7/19/91/a6396303d26cbb96faa55fdede89eb0dbe3c598d2306ddb8b8\n",
            "  Building wheel for networkx (setup.py) ... \u001b[?25l\u001b[?25hdone\n",
            "  Created wheel for networkx: filename=networkx-2.3-py2.py3-none-any.whl size=1556009 sha256=f60224e7df45d2676c24dc8fd5c3d79bf4910107cbe7562b6513567259ca4005\n",
            "  Stored in directory: /root/.cache/pip/wheels/44/e6/b8/4efaab31158e9e9ca9ed80b11f6b11130bac9a9672b3cbbeaf\n",
            "  Building wheel for psutil (setup.py) ... \u001b[?25l\u001b[?25hdone\n",
            "  Created wheel for psutil: filename=psutil-5.7.3-cp37-cp37m-linux_x86_64.whl size=285311 sha256=eef6d13fdabbd06d76218468bd3193e4b6f04205c9d7d713bc2c0acdb6879cbb\n",
            "  Stored in directory: /root/.cache/pip/wheels/f0/4b/57/d037639271e326da3e80e0ddc37bd3d5da7bbf48b3173be557\n",
            "  Building wheel for py2cytoscape (setup.py) ... \u001b[?25l\u001b[?25hdone\n",
            "  Created wheel for py2cytoscape: filename=py2cytoscape-0.7.1-py3-none-any.whl size=78829 sha256=855d436114327320efa8cbe330b91435b5db110c183148caa6d17a1e28b7df56\n",
            "  Stored in directory: /root/.cache/pip/wheels/17/d0/68/c5e4584aff90e7529b55fd9c7b8de97f4056ab615e91a65799\n",
            "  Building wheel for ete3 (setup.py) ... \u001b[?25l\u001b[?25hdone\n",
            "  Created wheel for ete3: filename=ete3-3.1.2-py3-none-any.whl size=2273013 sha256=d1ecd31f3f13f914a178477e81244105d0725f32400c202557789611b00a7eb6\n",
            "  Stored in directory: /root/.cache/pip/wheels/17/fd/e2/6ac384d8c2484789304657dde01b96d7ab83f4f1dd96d266df\n",
            "  Building wheel for python-igraph (setup.py) ... \u001b[?25l\u001b[?25hdone\n",
            "  Created wheel for python-igraph: filename=python_igraph-0.9.8-py3-none-any.whl size=9070 sha256=91d6ff782e70a0fd1ed87b5a758dfa3910924df6b549155092349f1ffa787a63\n",
            "  Stored in directory: /root/.cache/pip/wheels/15/86/ef/b8bcdfbcb1c489771ad256c7cd1eb4971cdb7f3f670938b798\n",
            "Successfully built mdsine2 networkx psutil py2cytoscape ete3 python-igraph\n",
            "Installing collected packages: texttable, igraph, fonttools, python-igraph, PyQt5-sip, PyQt5-Qt5, networkx, matplotlib, llvmlite, treeswift, PyQt5, py2cytoscape, psutil, numba, h5py, ete3, biopython, mdsine2\n",
            "  Attempting uninstall: networkx\n",
            "    Found existing installation: networkx 2.6.3\n",
            "    Uninstalling networkx-2.6.3:\n",
            "      Successfully uninstalled networkx-2.6.3\n",
            "  Attempting uninstall: matplotlib\n",
            "    Found existing installation: matplotlib 3.2.2\n",
            "    Uninstalling matplotlib-3.2.2:\n",
            "      Successfully uninstalled matplotlib-3.2.2\n",
            "  Attempting uninstall: llvmlite\n",
            "    Found existing installation: llvmlite 0.34.0\n",
            "    Uninstalling llvmlite-0.34.0:\n",
            "      Successfully uninstalled llvmlite-0.34.0\n",
            "  Attempting uninstall: psutil\n",
            "    Found existing installation: psutil 5.4.8\n",
            "    Uninstalling psutil-5.4.8:\n",
            "      Successfully uninstalled psutil-5.4.8\n",
            "  Attempting uninstall: numba\n",
            "    Found existing installation: numba 0.51.2\n",
            "    Uninstalling numba-0.51.2:\n",
            "      Successfully uninstalled numba-0.51.2\n",
            "  Attempting uninstall: h5py\n",
            "    Found existing installation: h5py 3.1.0\n",
            "    Uninstalling h5py-3.1.0:\n",
            "      Successfully uninstalled h5py-3.1.0\n",
            "\u001b[31mERROR: pip's dependency resolver does not currently take into account all the packages that are installed. This behaviour is the source of the following dependency conflicts.\n",
            "albumentations 0.1.12 requires imgaug<0.2.7,>=0.2.5, but you have imgaug 0.2.9 which is incompatible.\u001b[0m\n",
            "Successfully installed PyQt5-5.15.6 PyQt5-Qt5-5.15.2 PyQt5-sip-12.9.0 biopython-1.78 ete3-3.1.2 fonttools-4.28.3 h5py-2.9.0 igraph-0.9.8 llvmlite-0.35.0 matplotlib-3.5.1 mdsine2-0.4.5 networkx-2.3 numba-0.52.0 psutil-5.7.3 py2cytoscape-0.7.1 python-igraph-0.9.8 texttable-1.6.4 treeswift-1.1.14\n"
          ]
        },
        {
          "data": {
            "application/vnd.colab-display-data+json": {
              "pip_warning": {
                "packages": [
                  "matplotlib",
                  "mpl_toolkits",
                  "psutil"
                ]
              }
            }
          },
          "metadata": {},
          "output_type": "display_data"
        }
      ],
      "source": [
        "!pip install MDSINE2/."
      ]
    },
    {
      "cell_type": "code",
      "source": [
        "%ls"
      ],
      "metadata": {
        "id": "TSDfZNHN8imY"
      },
      "execution_count": null,
      "outputs": []
    },
    {
      "cell_type": "code",
      "execution_count": null,
      "metadata": {
        "colab": {
          "base_uri": "https://localhost:8080/"
        },
        "id": "czMvwBGV39IO",
        "outputId": "18c3db13-9611-4cfd-928a-588163401bbb"
      },
      "outputs": [
        {
          "output_type": "stream",
          "name": "stdout",
          "text": [
            "Cloning into 'MDSINE2_Paper'...\n",
            "remote: Enumerating objects: 3431, done.\u001b[K\n",
            "remote: Counting objects: 100% (1003/1003), done.\u001b[K\n",
            "remote: Compressing objects: 100% (661/661), done.\u001b[K\n",
            "remote: Total 3431 (delta 618), reused 681 (delta 333), pack-reused 2428\u001b[K\n",
            "Receiving objects: 100% (3431/3431), 87.37 MiB | 12.98 MiB/s, done.\n",
            "Resolving deltas: 100% (2158/2158), done.\n"
          ]
        }
      ],
      "source": [
        "!git clone --branch sawal_final_changes https://github.com/gerberlab/MDSINE2_Paper"
      ]
    },
    {
      "cell_type": "code",
      "execution_count": null,
      "metadata": {
        "colab": {
          "base_uri": "https://localhost:8080/",
          "height": 54
        },
        "id": "A-BEV3_k4B27",
        "outputId": "f062ea4f-6a35-4d69-9010-db1d2186cbdf"
      },
      "outputs": [
        {
          "output_type": "stream",
          "name": "stdout",
          "text": [
            "/content/MDSINE2_Paper/analysis\n"
          ]
        },
        {
          "output_type": "execute_result",
          "data": {
            "application/vnd.google.colaboratory.intrinsic+json": {
              "type": "string"
            },
            "text/plain": [
              "'/content/MDSINE2_Paper/analysis'"
            ]
          },
          "metadata": {},
          "execution_count": 31
        }
      ],
      "source": [
        "%cd /content/MDSINE2_Paper/analysis/\n",
        "%pwd"
      ]
    },
    {
      "cell_type": "markdown",
      "metadata": {
        "id": "7perTWNDQ0g2"
      },
      "source": [
        "```\n",
        "Figure 2 of the paper. Everything but the heatmap showing deseq results is plotted using the code below. \n",
        "```"
      ]
    },
    {
      "cell_type": "code",
      "execution_count": null,
      "metadata": {
        "colab": {
          "base_uri": "https://localhost:8080/"
        },
        "id": "55oba8CC4EG4",
        "outputId": "fd0074d5-4b76-4962-e678-0843f903f123"
      },
      "outputs": [
        {
          "output_type": "stream",
          "name": "stdout",
          "text": [
            "Making Figure 2\n",
            "meta NOT subset; don't know how to subset; dropped\n",
            "meta NOT subset; don't know how to subset; dropped\n",
            "Done Making Figure 2\n"
          ]
        }
      ],
      "source": [
        "!python gibson_inference/figures/figure2.py \\\n",
        "       -file1 \"gibson_inference/figures/preprocessed_all/gibson_healthy_agg_taxa.pkl\" \\\n",
        "       -file2 \"gibson_inference/figures/preprocessed_all/gibson_uc_agg_taxa.pkl\" \\\n",
        "       -file3 \"gibson_inference/figures/preprocessed_all/gibson_inoculum_agg_taxa.pkl\""
      ]
    },
    {
      "cell_type": "markdown",
      "metadata": {
        "id": "PQ-V8Ggu5Lj6"
      },
      "source": [
        "\n",
        "\n",
        "```\n",
        "Create the Figure 2 Heatmap showing deseq results at steady state. The output files are naed mat_order_high_ss and mat_order_low_ss; the former and latter files illustrate the results for species whose relative abundances are >0.5 and <0.5% respectively. The heatmaps are added into Figure 2 separetely using Adobe Illustrator. \n",
        "```\n"
      ]
    },
    {
      "cell_type": "code",
      "execution_count": null,
      "metadata": {
        "colab": {
          "base_uri": "https://localhost:8080/"
        },
        "id": "wfsh1Syz40eo",
        "outputId": "04befbba-0f10-409b-bd33-40a9f8c549db"
      },
      "outputs": [
        {
          "output_type": "stream",
          "name": "stdout",
          "text": [
            "Making Heatmap for species with abundance > 0.5%\n",
            "Done making heatmaps\n",
            "Making Heatmap for species with abundance < 0.5%\n",
            "Done making heatmaps\n"
          ]
        }
      ],
      "source": [
        "!python gibson_inference/figures/deseq_heatmap_ss.py \\\n",
        "    -loc \"gibson_inference/figures/figure2_files\" \\\n",
        "    -abund \"high\" \\\n",
        "    -txt \"abundant_species\" \\\n",
        "    -taxo \"order\" \\\n",
        "    -o \"mat_order_high_ss\" \\\n",
        "    -o_loc \"gibson_inference/figures/output_figures\"\n",
        "\n",
        "\n",
        "!python gibson_inference/figures/deseq_heatmap_ss.py \\\n",
        "    -loc \"gibson_inference/figures/figure2_files\" \\\n",
        "    -abund \"low\" \\\n",
        "    -txt \"abundant_species\" \\\n",
        "    -taxo \"order\" \\\n",
        "    -o \"mat_order_low_ss\" \\\n",
        "    -o_loc \"gibson_inference/figures/output_figures\"\n"
      ]
    },
    {
      "cell_type": "markdown",
      "metadata": {
        "id": "Bqt56jBJRm5P"
      },
      "source": [
        "```\n",
        "Create Figure 3 \n",
        "```"
      ]
    },
    {
      "cell_type": "code",
      "execution_count": null,
      "metadata": {
        "colab": {
          "base_uri": "https://localhost:8080/"
        },
        "id": "fA0o2aMO4TIb",
        "outputId": "e747f004-d682-4224-e107-a62192f51491"
      },
      "outputs": [
        {
          "output_type": "stream",
          "name": "stdout",
          "text": [
            "/usr/local/lib/python3.7/dist-packages/statsmodels/tools/_testing.py:19: FutureWarning: pandas.util.testing is deprecated. Use the functions in the public API at pandas.testing instead.\n",
            "  import pandas.util.testing as tm\n",
            "Making Figure 3\n",
            "meta NOT subset; don't know how to subset; dropped\n",
            "meta NOT subset; don't know how to subset; dropped\n",
            "Done Making Figure 3\n"
          ]
        }
      ],
      "source": [
        "!python gibson_inference/figures/figure3.py \\\n",
        "    --mdsine_path \"/content/forward_sims/\"\\\n",
        "    --clv_elas_path \"/content/clv_results/results_rel_elastic/\"\\\n",
        "    --clv_ridge_path \"/content/clv_results/results_rel_ridge/\"\\\n",
        "    --glv_elas_path \"/content/clv_results/results_abs_elastic/\"\\\n",
        "    --glv_ridge_path \"/content/clv_results/results_abs_ridge/forward_sims_abs_ridge/\"\\\n",
        "    --output_path \"gibson_inference/figures/output_figures/\""
      ]
    },
    {
      "cell_type": "markdown",
      "metadata": {
        "id": "2V5nTum5Rwhx"
      },
      "source": [
        "```\n",
        "Create Figure 4. All sub-plots except the network diagrams for Healthy and UC Cohort are made. The networks are created using cytoscape and added to the figure using Adobe Illustrator.  \n",
        "```"
      ]
    },
    {
      "cell_type": "code",
      "execution_count": null,
      "metadata": {
        "colab": {
          "base_uri": "https://localhost:8080/"
        },
        "id": "-U15N0oC41E7",
        "outputId": "73e3bf9f-35d0-4e68-f2b1-a1ef47146df7"
      },
      "outputs": [
        {
          "output_type": "stream",
          "name": "stdout",
          "text": [
            "Making Figure 4\n",
            "meta NOT subset; don't know how to subset; dropped\n",
            "meta NOT subset; don't know how to subset; dropped\n",
            "Done Making Figure 4\n"
          ]
        }
      ],
      "source": [
        "!python gibson_inference/figures/figure4.py \\\n",
        "    --chain_healthy \"/content/mixed_prior_fixed/healthy-seed0-mixed/mcmc.pkl\" \\\n",
        "    --chain_uc \"/content/mixed_prior_fixed/uc-seed0-mixed/mcmc.pkl\" \\\n",
        "    --tree_fname 'files/phylogenetic_placement_OTUs/phylogenetic_tree_only_query.nhx' \\\n",
        "    --study_healthy \"output/gibson/preprocessed/gibson_healthy_agg_taxa.pkl\" \\\n",
        "    --study_uc \"output/gibson/preprocessed/gibson_uc_agg_taxa.pkl\" \\\n",
        "    --study_inoc \"output/gibson/preprocessed/gibson_inoculum_agg_taxa.pkl\" \\\n",
        "    --detected_study_healthy \"gibson_inference/figures/preprocessed_all/gibson_healthy_agg_taxa_filtered3.pkl\" \\\n",
        "    --detected_study_uc \"gibson_inference/figures/preprocessed_all/gibson_uc_agg_taxa_filtered3.pkl\" \\\n",
        "    --output_loc \"gibson_inference/figures/output_figures\""
      ]
    },
    {
      "cell_type": "markdown",
      "metadata": {
        "id": "sZK-5UuxSOHK"
      },
      "source": [
        "```\n",
        "Create 5 B. Panel A, a cartoon showing the Phylogenetic Neighborhood Analysis is created separately. \n",
        "```"
      ]
    },
    {
      "cell_type": "code",
      "execution_count": null,
      "metadata": {
        "colab": {
          "base_uri": "https://localhost:8080/"
        },
        "id": "2frezFvt5mfE",
        "outputId": "85b1062f-0bf9-43e4-eaed-51638fb89f3d"
      },
      "outputs": [
        {
          "output_type": "stream",
          "name": "stdout",
          "text": [
            "Making Figure 5\n",
            "gibson_inference/figures/figure5.py:71: UserWarning: FixedFormatter should only be used together with FixedLocator\n",
            "  axes.set_xticklabels([100 - x1 for x1 in axes.get_xticks()])\n",
            "meta NOT subset; don't know how to subset; dropped\n",
            "meta NOT subset; don't know how to subset; dropped\n",
            "plotted and saved gibson_inference/figures/output_figures/figure5\n",
            "Done Making Figure 5\n"
          ]
        }
      ],
      "source": [
        "!python gibson_inference/figures/figure5.py \\\n",
        "    -file1 \"/content/coarsening/distance.csv\" \\\n",
        "    -file2 \"/content/coarsening/arithmetic_mean_data.csv\" \\\n",
        "    -file3 \"/content/coarsening/arithmetic_mean_null_all.csv\""
      ]
    },
    {
      "cell_type": "code",
      "source": [
        "#For figure 6"
      ],
      "metadata": {
        "id": "VUaioJsICV4k"
      },
      "execution_count": null,
      "outputs": []
    },
    {
      "cell_type": "code",
      "source": [
        "#For figure 7"
      ],
      "metadata": {
        "id": "CZdedcLcCaSd"
      },
      "execution_count": null,
      "outputs": []
    },
    {
      "cell_type": "markdown",
      "metadata": {
        "id": "zGyt8uZ-Spes"
      },
      "source": [
        "```\n",
        "Create Supplemental Figure 1\n",
        "```"
      ]
    },
    {
      "cell_type": "code",
      "execution_count": null,
      "metadata": {
        "colab": {
          "base_uri": "https://localhost:8080/"
        },
        "id": "tWLbwNIb5zLr",
        "outputId": "5037c7cd-b17b-493b-d4f6-0d316d52c30d"
      },
      "outputs": [
        {
          "output_type": "stream",
          "name": "stdout",
          "text": [
            "Making Supplemental Figure 1\n",
            "Plotting Beta Diversity\n",
            "Plotting Alpha Diversity\n",
            "meta NOT subset; don't know how to subset; dropped\n",
            "meta NOT subset; don't know how to subset; dropped\n",
            "Permanova Test Result\n",
            "method name               PERMANOVA\n",
            "test statistic name        pseudo-F\n",
            "sample size                     688\n",
            "number of groups                  2\n",
            "test statistic              260.746\n",
            "p-value                       0.001\n",
            "number of permutations          999\n",
            "Name: PERMANOVA results, dtype: object\n",
            "Done Making Supplemental Figure 1\n"
          ]
        }
      ],
      "source": [
        "!python gibson_inference/figures/supplemental_figure1.py \\\n",
        "-file1 \"gibson_inference/figures/preprocessed_all/gibson_healthy_agg_taxa.pkl\" \\\n",
        "-file2 \"gibson_inference/figures/preprocessed_all/gibson_uc_agg_taxa.pkl\" \\\n",
        "-file3 \"gibson_inference/figures/preprocessed_all/gibson_inoculum_agg_taxa.pkl\""
      ]
    },
    {
      "cell_type": "markdown",
      "metadata": {
        "id": "a0O9nD1dSwi7"
      },
      "source": [
        "```\n",
        "Make Supplemental Figure 2. All sub-plots except the the heatmap showing deseq results are created. The heatmaps and additional labels are added using Adobe Illustartor.\n",
        "```"
      ]
    },
    {
      "cell_type": "code",
      "execution_count": null,
      "metadata": {
        "colab": {
          "base_uri": "https://localhost:8080/"
        },
        "id": "tn7hCKXw5zzl",
        "outputId": "58cef1c2-427b-4697-a34e-6b68b4099b19"
      },
      "outputs": [
        {
          "output_type": "stream",
          "name": "stdout",
          "text": [
            "Making Supplemental Figure 2\n",
            "meta NOT subset; don't know how to subset; dropped\n",
            "meta NOT subset; don't know how to subset; dropped\n",
            "Done Making Supplemental Figure 2\n"
          ]
        }
      ],
      "source": [
        "!python gibson_inference/figures/supplemental_figure2.py \\\n",
        "    -file1 \"gibson_inference/figures/preprocessed_all/gibson_healthy_agg_taxa.pkl\" \\\n",
        "    -file2 \"gibson_inference/figures/preprocessed_all/gibson_uc_agg_taxa.pkl\" \\\n",
        "    -file3 \"gibson_inference/figures/preprocessed_all/gibson_inoculum_agg_taxa.pkl\""
      ]
    },
    {
      "cell_type": "markdown",
      "metadata": {
        "id": "3qRXxhlE5WkJ"
      },
      "source": [
        "```\n",
        "Create the phylum level heatmaps in supplemental figure 2. The heatmaps showing the deseq results are saved as mat_phylum_high_ss and mat_phylum_low_ss. Similarly, the heatmaps showing the deseq results for different perturbations are saved as mat_phylum_high and mat_phylum_low. \n",
        "```"
      ]
    },
    {
      "cell_type": "code",
      "execution_count": null,
      "metadata": {
        "colab": {
          "base_uri": "https://localhost:8080/"
        },
        "id": "JsWMT4-85UcQ",
        "outputId": "2e403034-01ea-4b7d-d92b-051ac79405bd"
      },
      "outputs": [
        {
          "output_type": "stream",
          "name": "stdout",
          "text": [
            "Making Heatmap for species with abundance > 0.5%\n",
            "Done making heatmaps\n",
            "Making Heatmap for species with abundance < 0.5%\n",
            "Done making heatmaps\n"
          ]
        }
      ],
      "source": [
        "!python gibson_inference/figures/deseq_heatmap_ss.py \\\n",
        "    -loc \"gibson_inference/figures/supplemental_figure2_files\" \\\n",
        "    -abund \"high\" \\\n",
        "    -txt \"abundant_species_phylum\" \\\n",
        "    -taxo \"phylum\" \\\n",
        "    -o \"mat_phylum_high_ss\" \\\n",
        "    -o_loc \"gibson_inference/figures/output_figures\"\n",
        "\n",
        "\n",
        "!python gibson_inference/figures/deseq_heatmap_ss.py \\\n",
        "    -loc \"gibson_inference/figures/supplemental_figure2_files\" \\\n",
        "    -abund \"low\" \\\n",
        "    -txt \"abundant_species_phylum\" \\\n",
        "    -taxo \"phylum\" \\\n",
        "    -o \"mat_phylum_low_ss\" \\\n",
        "    -o_loc \"gibson_inference/figures/output_figures\"\n",
        "\n",
        "!python gibson_inference/figures/deseq_heatmap_phylum.py \\\n",
        "    -loc \"gibson_inference/figures/supplemental_figure2_files\" \\\n",
        "    -abund \"high\" \\\n",
        "    -txt \"abundant_species_phylum\" \\\n",
        "    -taxo \"phylum\" \\\n",
        "    -o \"mat_phylum_high\" \\\n",
        "    -o_loc \"gibson_inference/figures/output_figures\"\n",
        "\n",
        "\n",
        "!python gibson_inference/figures/deseq_heatmap_phylum.py \\\n",
        "    -loc \"gibson_inference/figures/supplemental_figure2_files\" \\\n",
        "    -abund \"low\" \\\n",
        "    -txt \"abundant_species_phylum\" \\\n",
        "    -taxo \"phylum\" \\\n",
        "    -o \"mat_phylum_low\" \\\n",
        "    -o_loc \"gibson_inference/figures/output_figures\""
      ]
    },
    {
      "cell_type": "markdown",
      "metadata": {
        "id": "pGG_Ji1ozHBQ"
      },
      "source": [
        "\n",
        "\n",
        "```\n",
        "Create the order level heatmaps in supplemental figure 2 illustrating the deseq results for different perturbations.  The heatmaps are saved as mat_order_high and mat_order_low. \n",
        "```\n"
      ]
    },
    {
      "cell_type": "code",
      "execution_count": null,
      "metadata": {
        "id": "eh5o_TgMy_B2",
        "colab": {
          "base_uri": "https://localhost:8080/"
        },
        "outputId": "48afaf45-1de3-4982-b131-8aaf28c0088e"
      },
      "outputs": [
        {
          "output_type": "stream",
          "name": "stdout",
          "text": [
            "Making Heatmap Order\n",
            "meta NOT subset; don't know how to subset; dropped\n",
            "Making Heatmap Order\n",
            "meta NOT subset; don't know how to subset; dropped\n"
          ]
        }
      ],
      "source": [
        "!python gibson_inference/figures/deseq_heatmap_order.py \\\n",
        "    -loc \"gibson_inference/figures/supplemental_figure2_files\" \\\n",
        "    -abund \"high\" \\\n",
        "    -txt \"abundant_species_order\" \\\n",
        "    -taxo \"order\" \\\n",
        "    -o \"mat_order_high\" \\\n",
        "    -o_loc \"gibson_inference/figures/output_figures\"\n",
        "\n",
        "\n",
        "!python gibson_inference/figures/deseq_heatmap_order.py \\\n",
        "    -loc \"gibson_inference/figures/supplemental_figure2_files\" \\\n",
        "    -abund \"low\" \\\n",
        "    -txt \"abundant_species_order\" \\\n",
        "    -taxo \"order\" \\\n",
        "    -o \"mat_order_low\" \\\n",
        "    -o_loc \"gibson_inference/figures/output_figures\"\n"
      ]
    },
    {
      "cell_type": "markdown",
      "metadata": {
        "id": "PHoBDyXqTVZK"
      },
      "source": [
        "```\n",
        "Create supplemental figure 3\n",
        "```"
      ]
    },
    {
      "cell_type": "code",
      "execution_count": null,
      "metadata": {
        "colab": {
          "base_uri": "https://localhost:8080/"
        },
        "id": "Nv4GbGW-54lc",
        "outputId": "84f8051f-15ed-43fd-cd01-60321305fd6b"
      },
      "outputs": [
        {
          "output_type": "stream",
          "name": "stdout",
          "text": [
            "Making Supplemental Figure 3\n",
            "subj number: 1\n",
            "subj number: 2\n",
            "used: 113\n",
            "subj number: 3\n",
            "subj number: 4\n",
            "subj number: 7\n",
            "subj number: 8\n",
            "used: 94\n",
            "subj number: 9\n",
            "subj number: 10\n",
            "subj number: 11\n",
            "meta NOT subset; don't know how to subset; dropped\n",
            "meta NOT subset; don't know how to subset; dropped\n",
            "Done Making Supplemental Figure 3\n"
          ]
        }
      ],
      "source": [
        "!python gibson_inference/figures/supplemental_figure3.py \\\n",
        "    -file1 \"output/gibson/preprocessed/gibson_healthy_agg_taxa.pkl\" \\\n",
        "    -file2 \"output/gibson/preprocessed/gibson_uc_agg_taxa.pkl\" \\\n"
      ]
    },
    {
      "cell_type": "markdown",
      "metadata": {
        "id": "69tvuYvvTpEK"
      },
      "source": [
        "```\n",
        "Create supplemental figure 4\n",
        "```"
      ]
    },
    {
      "cell_type": "code",
      "execution_count": null,
      "metadata": {
        "colab": {
          "base_uri": "https://localhost:8080/"
        },
        "id": "udkkmVXN585a",
        "outputId": "dd7259b6-912f-4568-d67c-cfe11baf130d"
      },
      "outputs": [
        {
          "output_type": "stream",
          "name": "stdout",
          "text": [
            "/usr/local/lib/python3.7/dist-packages/statsmodels/tools/_testing.py:19: FutureWarning: pandas.util.testing is deprecated. Use the functions in the public API at pandas.testing instead.\n",
            "  import pandas.util.testing as tm\n",
            "Making Supplemental Figure 4\n",
            "meta NOT subset; don't know how to subset; dropped\n",
            "meta NOT subset; don't know how to subset; dropped\n",
            "Done Making Supplemental Figure 4\n"
          ]
        }
      ],
      "source": [
        "!python gibson_inference/figures/supplemental_figure4.py \\\n",
        "    --mdsine_path \"/content/forward_sims/\"\\\n",
        "    --clv_elas_path \"/content/clv_results/results_rel_elastic/\"\\\n",
        "    --clv_ridge_path \"/content/clv_results/results_rel_ridge/\"\\\n",
        "    --glv_elas_path \"/content/clv_results/results_abs_elastic/\"\\\n",
        "    --glv_ridge_path \"/content/clv_results/results_abs_ridge/forward_sims_abs_ridge/\"\\\n",
        "    --output_path \"gibson_inference/figures/output_figures/\""
      ]
    },
    {
      "cell_type": "markdown",
      "metadata": {
        "id": "2tAifSyoTeDq"
      },
      "source": [
        "```\n",
        "Create supplemental figure 5\n",
        "```"
      ]
    },
    {
      "cell_type": "code",
      "execution_count": null,
      "metadata": {
        "colab": {
          "base_uri": "https://localhost:8080/"
        },
        "id": "bPDBL27_6CS1",
        "outputId": "fb75b116-7c98-4317-8220-a2af60713697"
      },
      "outputs": [
        {
          "output_type": "stream",
          "name": "stdout",
          "text": [
            "/usr/local/lib/python3.7/dist-packages/statsmodels/tools/_testing.py:19: FutureWarning: pandas.util.testing is deprecated. Use the functions in the public API at pandas.testing instead.\n",
            "  import pandas.util.testing as tm\n",
            "Making Supplemental Figure 5\n",
            "meta NOT subset; don't know how to subset; dropped\n",
            "meta NOT subset; don't know how to subset; dropped\n",
            "Done Making Supplemental Figure 5\n"
          ]
        }
      ],
      "source": [
        "!python gibson_inference/figures/supplemental_figure5.py -loc1 \"/content/mixed_prior_fixed/healthy-seed0-mixed\" -loc2 \"/content/mixed_prior_fixed/uc-seed0-mixed\"\n",
        "\n"
      ]
    }
  ],
  "metadata": {
    "colab": {
      "name": "colab_create_figures",
      "provenance": [],
      "collapsed_sections": []
    },
    "kernelspec": {
      "display_name": "Python 3",
      "name": "python3"
    },
    "language_info": {
      "name": "python"
    }
  },
  "nbformat": 4,
  "nbformat_minor": 0
}